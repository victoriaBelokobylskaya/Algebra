{
 "cells": [
  {
   "cell_type": "markdown",
   "metadata": {},
   "source": [
    "__1. Исследовать на линейную зависимость:__\n",
    "\n",
    "$$f_{1}(x)=e^{x}, f_{2}(x)=1, f_{3}(x)=x+1, f_{4}(x)=x-e^{x}.$$"
   ]
  },
  {
   "cell_type": "markdown",
   "metadata": {},
   "source": [
    "$$ \\alpha_{1}e^x + \\alpha_{2} + \\alpha_{3}x + \\alpha_{3} + \\alpha_{4}x - \\alpha_{4}e^x = 0$$\n",
    "\n",
    "$$ e^x(\\alpha_{1} - \\alpha_{4}) + x(\\alpha_{3} + \\alpha_{4}) + (\\alpha_{2} + \\alpha_{3}) = 0$$\n",
    "\n",
    "$$\\begin{cases}\n",
    " \\alpha_{1}-\\alpha_{4}=0,\\\\\n",
    " \\alpha_{3}+\\alpha_{4}=0,\\\\\n",
    " \\alpha_{2}+\\alpha_{3}=0,\\\\\n",
    "\\end{cases}$$"
   ]
  },
  {
   "cell_type": "markdown",
   "metadata": {},
   "source": [
    "__2. Исследовать на линейную зависимость:__\n",
    "$$f_{1}(x)=2, f_{2}(x)=x, f_{3}(x)=x^{2}, f_{4}(x)=(x+1)^{2}.$$"
   ]
  },
  {
   "cell_type": "markdown",
   "metadata": {},
   "source": [
    "Функцию $$f_{4}(x)$$ можно выразить через остальные функции, значит функции линейно зависимые\n",
    "\n",
    "$$f_{4}(x) = f_{3}(x) + 2 f_{2}(x) + f_{1}(x) / 2 $$"
   ]
  },
  {
   "cell_type": "markdown",
   "metadata": {},
   "source": [
    "__3. Найти координаты вектора__ $x = (2, 3, 5)\\in \\mathbb{R}^{3}$ в базисе $b_{1}=(0, 0, 10)$, $b_{2}=(2, 0, 0)$, $b_{3}=(0, 1, 0)$."
   ]
  },
  {
   "cell_type": "markdown",
   "metadata": {},
   "source": [
    "$x = (2, 3, 5) = b_{2} + 3b_{3} + b_{1} / 2$"
   ]
  },
  {
   "cell_type": "markdown",
   "metadata": {},
   "source": [
    "__4.Найти координаты вектора__ $3x^{2}-2x+2\\in\\mathbb{R}^{3}[x]$:\n",
    "\n",
    "   а) в базисе $1$, $x$, $x^{2}   =  (2, -2, 3)$;\n",
    "   \n",
    "   \n",
    "\n",
    "   б) в базисе $x^{2}$, $x-1$, $1 = (3, -2, 0) $."
   ]
  },
  {
   "cell_type": "markdown",
   "metadata": {},
   "source": [
    "__Методичка 2__"
   ]
  },
  {
   "cell_type": "code",
   "execution_count": 28,
   "metadata": {},
   "outputs": [],
   "source": [
    "import numpy as np\n",
    "from numpy.linalg import norm\n",
    "import math"
   ]
  },
  {
   "cell_type": "markdown",
   "metadata": {},
   "source": [
    "__1. Найти скалярное произведение векторов  x,y∈R :__\n",
    "\n",
    "а) $ x=(0,−3,6), y=(−4,7,9)  $\n",
    "\n",
    "$ Ответ:  (0, -21, 54) = 33 $\n",
    "\n",
    "б) $ x=(7,−4,0,1), y=(−3,1,11,2) $\n",
    "\n",
    "$ Ответ: (-21, -4, 0, 2) = -23 $\n"
   ]
  },
  {
   "cell_type": "code",
   "execution_count": 16,
   "metadata": {},
   "outputs": [
    {
     "name": "stdout",
     "output_type": "stream",
     "text": [
      "Скалярное произведение x и y:\n",
      "33\n"
     ]
    }
   ],
   "source": [
    "x = np.array([0, -3, 6])\n",
    "y = np.array([-4, 7 ,9])\n",
    "print(f'Скалярное произведение x и y:\\n{np.dot(x, y)}')"
   ]
  },
  {
   "cell_type": "code",
   "execution_count": 17,
   "metadata": {},
   "outputs": [
    {
     "name": "stdout",
     "output_type": "stream",
     "text": [
      "Скалярное произведение x и y:\n",
      "-23\n"
     ]
    }
   ],
   "source": [
    "x = np.array([7,-4,0,1])\n",
    "y = np.array([-3,1,11,2])\n",
    "print(f'Скалярное произведение x и y:\\n{np.dot(x, y)}')"
   ]
  },
  {
   "cell_type": "markdown",
   "metadata": {},
   "source": [
    "__2. Найти нормы векторов $(4, 2, 4)$ и $(12, 3, 4)$ и угол между ними.__"
   ]
  },
  {
   "cell_type": "code",
   "execution_count": 2,
   "metadata": {},
   "outputs": [],
   "source": [
    "a = np.array([4, 2, 4])"
   ]
  },
  {
   "cell_type": "markdown",
   "metadata": {},
   "source": [
    "Определим евклидову норму вектора $a$:\n",
    "\n",
    "$$\\left\\|x\\right\\|_{2} = \\sqrt{4^{2}+2^{2}+4^{2}}=\\sqrt{36} = 6.$$"
   ]
  },
  {
   "cell_type": "code",
   "execution_count": 5,
   "metadata": {},
   "outputs": [
    {
     "name": "stdout",
     "output_type": "stream",
     "text": [
      "l2 норма вектора a:\n",
      "6.0\n"
     ]
    }
   ],
   "source": [
    "print(f'l2 норма вектора a:\\n{norm(a, ord=2)}')"
   ]
  },
  {
   "cell_type": "code",
   "execution_count": 10,
   "metadata": {},
   "outputs": [],
   "source": [
    "b = np.array([12, 3, 4])"
   ]
  },
  {
   "cell_type": "markdown",
   "metadata": {},
   "source": [
    "Определим евклидову норму вектора $b$:\n",
    "\n",
    "$$\\left\\|x\\right\\|_{2} = \\sqrt{12^{2}+3^{2}+4^{2}}=\\sqrt{169} = 13.$$"
   ]
  },
  {
   "cell_type": "code",
   "execution_count": 11,
   "metadata": {},
   "outputs": [
    {
     "name": "stdout",
     "output_type": "stream",
     "text": [
      "l2 норма вектора b:\n",
      "13.0\n"
     ]
    }
   ],
   "source": [
    "print(f'l2 норма вектора b:\\n{norm(b, ord=2)}')"
   ]
  },
  {
   "cell_type": "markdown",
   "metadata": {},
   "source": [
    "Угол между векторами \n",
    "$$cos\\varphi = \\frac{(x,y)}{\\left \\|x\\right \\|\\cdot\\left \\|y\\right \\|}.$$"
   ]
  },
  {
   "cell_type": "markdown",
   "metadata": {},
   "source": [
    "$$cos\\varphi = \\frac{4\\cdot12+2\\cdot3+4\\cdot4}{6\\cdot13}=\\frac{70}{78}\\approx 0.90$$"
   ]
  },
  {
   "cell_type": "code",
   "execution_count": 18,
   "metadata": {},
   "outputs": [
    {
     "name": "stdout",
     "output_type": "stream",
     "text": [
      "Косинус угла между a и b: 0.90\n",
      "Угол между a и b: 0.46\n"
     ]
    }
   ],
   "source": [
    "cos_phi = np.dot(a, b) / norm(a) / norm(b)\n",
    "print(f'Косинус угла между a и b: {cos_phi:.2f}')\n",
    "print(f'Угол между a и b: {np.arccos(cos_phi):.2f}')"
   ]
  },
  {
   "cell_type": "markdown",
   "metadata": {},
   "source": [
    "__4. Какие из нижеперечисленных векторов образуют ортонормированный базис в линейном пространстве  R3 :__\n",
    "\n",
    "$а)  (1,0,0),(0,0,1); $\n",
    "\n",
    "$б)  (1/2–√,−1/2–√,0),(1/2–√,1/2–√,0),(0,0,1); $\n",
    "\n",
    "$в)  (1/2,−1/2,0),(0,1/2,1/2),(0,0,1); $\n",
    "\n",
    "$г)  (1,0,0),(0,1,0),(0,0,1)?$"
   ]
  },
  {
   "cell_type": "code",
   "execution_count": 26,
   "metadata": {},
   "outputs": [
    {
     "name": "stdout",
     "output_type": "stream",
     "text": [
      "Нормы x1 и y1: (1.0, 1.0)\n",
      "Косинус угла между x1 и y1: 0.00\n"
     ]
    }
   ],
   "source": [
    "'a) образует ортонормированный базис'\n",
    "x1 = np.array([1,0,0])\n",
    "y1 = np.array([0,0,1])\n",
    "cos_phi = np.dot(x1, y1) / norm(x1) / norm(y1)\n",
    "print(f'Нормы x1 и y1: {norm(x1), norm(x1)}')\n",
    "print(f'Косинус угла между x1 и y1: {cos_phi:.2f}')"
   ]
  },
  {
   "cell_type": "code",
   "execution_count": 42,
   "metadata": {},
   "outputs": [
    {
     "name": "stdout",
     "output_type": "stream",
     "text": [
      "Нормы x2, y2, z2: (0.9999999999999999, 0.9999999999999999, 1.0)\n",
      "Косинус угла между x2 и y2: 0.00\n",
      "Косинус угла между x2 и z2: 0.00\n",
      "Косинус угла между y2 и z2: 0.00\n"
     ]
    }
   ],
   "source": [
    "'б) образует ортонормированный базис'\n",
    "x2 = np.array([1/math.sqrt(2),-1/math.sqrt(2),0])\n",
    "y2 = np.array([1/math.sqrt(2),1/math.sqrt(2),0])\n",
    "z2 = np.array([0,0,1])\n",
    "cos_phi = np.dot(x2, y2) / norm(x2) / norm(y2)\n",
    "print(f'Нормы x2, y2, z2: {norm(x2), norm(y2), norm(z2)}')\n",
    "print(f'Косинус угла между x2 и y2: {cos_phi:.2f}')\n",
    "\n",
    "cos_phi = np.dot(x2, z2) / norm(x2) / norm(z2)\n",
    "print(f'Косинус угла между x2 и z2: {cos_phi:.2f}')\n",
    "\n",
    "cos_phi = np.dot(y2, z2) / norm(y2) / norm(z2)\n",
    "print(f'Косинус угла между y2 и z2: {cos_phi:.2f}')"
   ]
  },
  {
   "cell_type": "code",
   "execution_count": 43,
   "metadata": {},
   "outputs": [
    {
     "name": "stdout",
     "output_type": "stream",
     "text": [
      "Нормы x2, y2, z2: (0.7071067811865476, 0.7071067811865476, 1.0)\n",
      "Косинус угла между x2 и y2: -0.50\n",
      "Косинус угла между x2 и z2: 0.00\n",
      "Косинус угла между y2 и z2: -0.71\n"
     ]
    }
   ],
   "source": [
    "'в) не образует ортонормированный базис'\n",
    "x2 = np.array([0.5,-0.5,0])\n",
    "y2 = np.array([0, 0.5,-0.5])\n",
    "z2 = np.array([0,0,1])\n",
    "cos_phi = np.dot(x2, y2) / norm(x2) / norm(y2)\n",
    "print(f'Нормы x2, y2, z2: {norm(x2), norm(y2), norm(z2)}')\n",
    "print(f'Косинус угла между x2 и y2: {cos_phi:.2f}')\n",
    "\n",
    "cos_phi = np.dot(x2, z2) / norm(x2) / norm(z2)\n",
    "print(f'Косинус угла между x2 и z2: {cos_phi:.2f}')\n",
    "\n",
    "cos_phi = np.dot(y2, z2) / norm(y2) / norm(z2)\n",
    "print(f'Косинус угла между y2 и z2: {cos_phi:.2f}')"
   ]
  },
  {
   "cell_type": "code",
   "execution_count": 44,
   "metadata": {},
   "outputs": [
    {
     "name": "stdout",
     "output_type": "stream",
     "text": [
      "Нормы x2, y2, z2: (1.0, 1.0, 1.0)\n",
      "Косинус угла между x2 и y2: 0.00\n",
      "Косинус угла между x2 и z2: 0.00\n",
      "Косинус угла между y2 и z2: 0.00\n"
     ]
    }
   ],
   "source": [
    "'г) образует ортонормированный базис'\n",
    "x2 = np.array([1,0,0])\n",
    "y2 = np.array([0,1,0])\n",
    "z2 = np.array([0,0,1])\n",
    "cos_phi = np.dot(x2, y2) / norm(x2) / norm(y2)\n",
    "print(f'Нормы x2, y2, z2: {norm(x2), norm(y2), norm(z2)}')\n",
    "print(f'Косинус угла между x2 и y2: {cos_phi:.2f}')\n",
    "\n",
    "cos_phi = np.dot(x2, z2) / norm(x2) / norm(z2)\n",
    "print(f'Косинус угла между x2 и z2: {cos_phi:.2f}')\n",
    "\n",
    "cos_phi = np.dot(y2, z2) / norm(y2) / norm(z2)\n",
    "print(f'Косинус угла между y2 и z2: {cos_phi:.2f}')"
   ]
  }
 ],
 "metadata": {
  "kernelspec": {
   "display_name": "Python 3",
   "language": "python",
   "name": "python3"
  },
  "language_info": {
   "codemirror_mode": {
    "name": "ipython",
    "version": 3
   },
   "file_extension": ".py",
   "mimetype": "text/x-python",
   "name": "python",
   "nbconvert_exporter": "python",
   "pygments_lexer": "ipython3",
   "version": "3.7.6"
  }
 },
 "nbformat": 4,
 "nbformat_minor": 4
}
